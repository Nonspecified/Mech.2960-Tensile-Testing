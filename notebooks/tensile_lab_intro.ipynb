
# Mech 2960 – Tensile Testing Lab  
Welcome to the interactive version of your tensile testing lab.
